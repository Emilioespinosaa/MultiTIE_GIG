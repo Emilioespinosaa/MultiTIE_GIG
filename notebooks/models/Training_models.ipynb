{
 "cells": [
  {
   "cell_type": "code",
   "execution_count": null,
   "id": "a78ca3f7",
   "metadata": {},
   "outputs": [],
   "source": [
    "import pandas as pd"
   ]
  },
  {
   "cell_type": "markdown",
   "id": "15a4992e",
   "metadata": {},
   "source": [
    "### Folders to work\n",
    "\n",
    "We have to use the dataset \"results-with-evidence-full.txt\" from the next folders:\n",
    "- AD (atomic dermatitis) = \"cloud-data/its-cmo-darwin-magellan-workspaces-folders/WS_PMCB/BisCiT_Repository/results/current_version/v2.0c/ad\"\n",
    "- CD (Crohn's Disease) = \"cloud-data/its-cmo-darwin-magellan-workspaces-folders/WS_PMCB/BisCiT_Repository/results/current_version/v2.0c/cd\"\n",
    "- ASA (Asthma) = \"cloud-data/its-cmo-darwin-magellan-workspaces-folders/WS_PMCB/BisCiT_Repository/results/current_version/v2.0c/asa\"\n",
    "- COPD (Chronic Obstructive Pulmonary Disorder) = \"cloud-data/its-cmo-darwin-magellan-workspaces-folders/WS_PMCB/BisCiT_Repository/results/current_version/v2.0c/copd\"\n",
    "- HS (Hidratenitis Suppertiva) = \"cloud-data/its-cmo-darwin-magellan-workspaces-folders/WS_PMCB/BisCiT_Repository/results/current_version/v2.0c/hs\"\n",
    "- PSO (Psoriasis) = \"cloud-data/its-cmo-darwin-magellan-workspaces-folders/WS_PMCB/BisCiT_Repository/results/current_version/v2.0c/pso\"\n",
    "- SLE (Systemic Lupus Erthymatosus) = \"cloud-data/its-cmo-darwin-magellan-workspaces-folders/WS_PMCB/BisCiT_Repository/results/current_version/v2.0c/sle\"\n",
    "- T1D (Type 1 Diabetes) = \"cloud-data/its-cmo-darwin-magellan-workspaces-folders/WS_PMCB/BisCiT_Repository/results/current_version/v2.0c/t1d\"\n",
    "- UC (Ulcerative Colitis) = \"cloud-data/its-cmo-darwin-magellan-workspaces-folders/WS_PMCB/BisCiT_Repository/results/current_version/v2.0c/uc\"\n"
   ]
  },
  {
   "cell_type": "code",
   "execution_count": null,
   "id": "f0bea617",
   "metadata": {},
   "outputs": [],
   "source": [
    "folders = {\n",
    "    \"AD\": \"cloud-data/its-cmo-darwin-magellan-workspaces-folders/WS_PMCB/BisCiT_Repository/results/current_version/v2.0c/ad\",\n",
    "    \"CD\": \"cloud-data/its-cmo-darwin-magellan-workspaces-folders/WS_PMCB/BisCiT_Repository/results/current_version/v2.0c/cd\",\n",
    "    \"ASA\": \"cloud-data/its-cmo-darwin-magellan-workspaces-folders/WS_PMCB/BisCiT_Repository/results/current_version/v2.0c/asa\",\n",
    "    \"COPD\": \"cloud-data/its-cmo-darwin-magellan-workspaces-folders/WS_PMCB/BisCiT_Repository/results/current_version/v2.0c/copd\",\n",
    "    \"HS\": \"cloud-data/its-cmo-darwin-magellan-workspaces-folders/WS_PMCB/BisCiT_Repository/results/current_version/v2.0c/hs\",\n",
    "    \"PSO\": \"cloud-data/its-cmo-darwin-magellan-workspaces-folders/WS_PMCB/BisCiT_Repository/results/current_version/v2.0c/pso\",\n",
    "    \"SLE\": \"cloud-data/its-cmo-darwin-magellan-workspaces-folders/WS_PMCB/BisCiT_Repository/results/current_version/v2.0c/sle\",\n",
    "    \"T1D\": \"cloud-data/its-cmo-darwin-magellan-workspaces-folders/WS_PMCB/BisCiT_Repository/results/current_version/v2.0c/t1d\",\n",
    "    \"UC\": \"cloud-data/its-cmo-darwin-magellan-workspaces-folders/WS_PMCB/BisCiT_Repository/results/current_version/v2.0c/uc\"\n",
    "}"
   ]
  },
  {
   "cell_type": "markdown",
   "id": "29b35d47",
   "metadata": {},
   "source": [
    "### Training data"
   ]
  },
  {
   "cell_type": "code",
   "execution_count": null,
   "id": "46af78e6",
   "metadata": {},
   "outputs": [],
   "source": [
    "folder = 'AD'\n",
    "csv_path = folders[folder] + '/results-with-evidence-full.txt'"
   ]
  },
  {
   "cell_type": "code",
   "execution_count": null,
   "id": "d5e1c3bd",
   "metadata": {},
   "outputs": [],
   "source": [
    "df = pd.read_csv(csv_path, sep='\\t')"
   ]
  },
  {
   "cell_type": "markdown",
   "id": "35c58a7c",
   "metadata": {},
   "source": [
    "### Columns to use\n",
    "\n",
    "The next are the one that are gonna be used to train the models\n",
    "- 'TIE'\n",
    "- 'TIE Bulk RNA'\n",
    "- 'Genetics'\n",
    "- 'Genetics, Rare Variants'\n",
    "- 'Knowledge Graph Connectivity'\n",
    "- 'Pathway Coverage, Positive'\n",
    "- 'Proteomics'\n",
    "- 'Single Cell DE'\n",
    "- 'Single Cell Expression'\n",
    "- 'Single Cell Specificity'\n",
    "- 'Ligand Receptor Significance'\n",
    "- 'Spatial Inflamed vs Noninflamed'\n",
    "- 'Spatial Disease vs Healthy'\n",
    "- 'SC KO, positive'\n",
    "- 'Pathway Coverage, Negative'\n",
    "- 'SC KO, Negative'"
   ]
  },
  {
   "cell_type": "code",
   "execution_count": null,
   "id": "4c6825bc",
   "metadata": {},
   "outputs": [],
   "source": [
    "final_df = df[['TIE', 'TIE Bulk RNA', 'Genetics',\n",
    "       'Genetics, Rare Variants', 'Knowledge Graph Connectivity',\n",
    "       'Pathway Coverage, Positive', 'Proteomics', 'Single Cell DE',\n",
    "       'Single Cell Expression', 'Single Cell Specificity',\n",
    "       'Ligand Receptor Significance', 'Spatial Inflamed vs Noninflamed',\n",
    "       'Spatial Disease vs Healthy', 'SC KO, positive',\n",
    "       'Pathway Coverage, Negative', 'SC KO, Negative']]"
   ]
  },
  {
   "cell_type": "code",
   "execution_count": null,
   "id": "0a295aa0",
   "metadata": {},
   "outputs": [],
   "source": [
    "final_df.head()"
   ]
  },
  {
   "cell_type": "markdown",
   "id": "0ff7f0c0",
   "metadata": {},
   "source": [
    "### Target data"
   ]
  },
  {
   "cell_type": "code",
   "execution_count": null,
   "id": "5a3c692a",
   "metadata": {},
   "outputs": [],
   "source": [
    "competition_score_path = '../../dataset/GENS_DEVELOPMENT_SCORE.csv'"
   ]
  },
  {
   "cell_type": "code",
   "execution_count": null,
   "id": "fa02f25c",
   "metadata": {},
   "outputs": [],
   "source": [
    "comp_df = pd.read_csv(competition_score_path)"
   ]
  },
  {
   "cell_type": "code",
   "execution_count": null,
   "id": "e1055de4",
   "metadata": {},
   "outputs": [],
   "source": [
    "comp_df.head()"
   ]
  },
  {
   "cell_type": "markdown",
   "id": "41ce89d3",
   "metadata": {},
   "source": [
    "Calculate the croos product of every gen"
   ]
  },
  {
   "cell_type": "code",
   "execution_count": null,
   "id": "dac80722",
   "metadata": {},
   "outputs": [],
   "source": [
    "genes_data = comp_df[['gene_symbol', 'development_score_log_norm']].copy()\n",
    "\n",
    "# Crear el producto cruzado\n",
    "# Método 1: Usando merge con how='cross' (pandas >= 1.2.0)\n",
    "cross_product = genes_data.merge(genes_data, how='cross', suffixes=('_1', '_2'))\n",
    "\n",
    "# Calcular el producto de los scores\n",
    "cross_product['score_product'] = (\n",
    "    cross_product['development_score_log_norm_1'] * \n",
    "    cross_product['development_score_log_norm_2']\n",
    ")\n",
    "\n",
    "# Seleccionar y renombrar las columnas finales\n",
    "result = cross_product[[\n",
    "    'gene_symbol_1', \n",
    "    'gene_symbol_2', \n",
    "    'score_product'\n",
    "]].copy()"
   ]
  },
  {
   "cell_type": "code",
   "execution_count": null,
   "id": "6113c909",
   "metadata": {},
   "outputs": [],
   "source": [
    "result.head()"
   ]
  },
  {
   "cell_type": "code",
   "execution_count": null,
   "id": "e642d1a1",
   "metadata": {},
   "outputs": [],
   "source": [
    "result.to_csv(f'../../dataset/gene_pairs_development_score.csv', index=False)"
   ]
  }
 ],
 "metadata": {
  "kernelspec": {
   "display_name": "env (3.10.4)",
   "language": "python",
   "name": "python3"
  },
  "language_info": {
   "codemirror_mode": {
    "name": "ipython",
    "version": 3
   },
   "file_extension": ".py",
   "mimetype": "text/x-python",
   "name": "python",
   "nbconvert_exporter": "python",
   "pygments_lexer": "ipython3",
   "version": "3.10.4"
  }
 },
 "nbformat": 4,
 "nbformat_minor": 5
}
